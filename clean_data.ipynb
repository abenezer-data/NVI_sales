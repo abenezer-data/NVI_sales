{
  "nbformat": 4,
  "nbformat_minor": 0,
  "metadata": {
    "colab": {
      "provenance": []
    },
    "kernelspec": {
      "name": "python3",
      "display_name": "Python 3"
    },
    "language_info": {
      "name": "python"
    }
  },
  "cells": [
    {
      "cell_type": "code",
      "execution_count": null,
      "metadata": {
        "id": "AaPLOn7lgwaO"
      },
      "outputs": [],
      "source": [
        "import pandas as pd"
      ]
    },
    {
      "cell_type": "code",
      "source": [
        "sales_credit =pd.read_excel(r\"C:\\Users\\Abenezer\\Downloads\\00 NVI\\3ojarMq8fUa83tsj2tvP8g.xls\")\n",
        "sales_cash =pd.read_excel(r\"C:\\Users\\Abenezer\\Downloads\\00 NVI\\XN1trWKv702IYOt0iOe17w.xls\")"
      ],
      "metadata": {
        "id": "LANRKQQCi-i7"
      },
      "execution_count": null,
      "outputs": []
    },
    {
      "cell_type": "code",
      "source": [
        "df = pd.concat([sales_credit, sales_cash], ignore_index=True)\n",
        "\n",
        "df.columns = df.columns.str.strip().str.lower().str.replace(\" \", \"_\")\n",
        "\n",
        "df = df.drop_duplicates()\n",
        "\n",
        "# Handle missing values\n",
        "for col in df.columns:\n",
        "    if df[col].dtype == \"object\":\n",
        "        df[col] = df[col].fillna(\"Unknown\").str.strip()\n",
        "    else:\n",
        "        df[col] = df[col].fillna(0)\n",
        "\n",
        "df[\"date\"] = pd.to_datetime(df[\"date\"], errors=\"coerce\")\n",
        "\n",
        "df = df[df[\"date\"].dt.year == 2025]\n"
      ],
      "metadata": {
        "id": "DA5zL7GnjDY1"
      },
      "execution_count": null,
      "outputs": []
    },
    {
      "cell_type": "code",
      "source": [
        "df.to_csv(r\"C:\\Users\\Abenezer\\Downloads\\00 NVI\\nvi_2025_sales.csv\", index=False)"
      ],
      "metadata": {
        "id": "YsjsvymZjIqL"
      },
      "execution_count": null,
      "outputs": []
    }
  ]
}